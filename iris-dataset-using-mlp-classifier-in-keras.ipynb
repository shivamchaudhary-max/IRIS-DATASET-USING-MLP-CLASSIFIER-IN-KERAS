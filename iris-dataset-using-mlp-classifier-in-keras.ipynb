{
 "cells": [
  {
   "cell_type": "markdown",
   "id": "d4925526",
   "metadata": {
    "id": "GVKokhuu8Kzh",
    "papermill": {
     "duration": 0.01574,
     "end_time": "2022-01-22T07:34:47.498880",
     "exception": false,
     "start_time": "2022-01-22T07:34:47.483140",
     "status": "completed"
    },
    "tags": []
   },
   "source": [
    "Classify iris dataset using MLP classifier in keras API. Perform the following.\n"
   ]
  },
  {
   "cell_type": "code",
   "execution_count": 1,
   "id": "c96a3c29",
   "metadata": {
    "execution": {
     "iopub.execute_input": "2022-01-22T07:34:47.531272Z",
     "iopub.status.busy": "2022-01-22T07:34:47.530065Z",
     "iopub.status.idle": "2022-01-22T07:34:56.279150Z",
     "shell.execute_reply": "2022-01-22T07:34:56.278106Z"
    },
    "id": "RTzerCE-8MAe",
    "papermill": {
     "duration": 8.765757,
     "end_time": "2022-01-22T07:34:56.279396",
     "exception": false,
     "start_time": "2022-01-22T07:34:47.513639",
     "status": "completed"
    },
    "tags": []
   },
   "outputs": [],
   "source": [
    "import numpy as np\n",
    "from sklearn import datasets\n",
    "from sklearn.model_selection import train_test_split\n",
    "from sklearn import metrics\n",
    "#\n",
    "# Import Keras modules\n",
    "#\n",
    "from keras import models\n",
    "from keras import layers\n",
    "from tensorflow.keras.utils import to_categorical\n",
    "from sklearn.neural_network import MLPClassifier # neural network"
   ]
  },
  {
   "cell_type": "code",
   "execution_count": 2,
   "id": "36591fc8",
   "metadata": {
    "execution": {
     "iopub.execute_input": "2022-01-22T07:34:56.308711Z",
     "iopub.status.busy": "2022-01-22T07:34:56.307980Z",
     "iopub.status.idle": "2022-01-22T07:34:56.316631Z",
     "shell.execute_reply": "2022-01-22T07:34:56.317197Z"
    },
    "id": "uW8odas18XIA",
    "papermill": {
     "duration": 0.025849,
     "end_time": "2022-01-22T07:34:56.317533",
     "exception": false,
     "start_time": "2022-01-22T07:34:56.291684",
     "status": "completed"
    },
    "tags": []
   },
   "outputs": [],
   "source": [
    "# Load the iris dataset\n",
    "\n",
    "iris = datasets.load_iris()"
   ]
  },
  {
   "cell_type": "code",
   "execution_count": 3,
   "id": "e5253e05",
   "metadata": {
    "execution": {
     "iopub.execute_input": "2022-01-22T07:34:56.348173Z",
     "iopub.status.busy": "2022-01-22T07:34:56.347098Z",
     "iopub.status.idle": "2022-01-22T07:34:56.350866Z",
     "shell.execute_reply": "2022-01-22T07:34:56.350115Z"
    },
    "id": "4JG3s0Pt8dOl",
    "papermill": {
     "duration": 0.02093,
     "end_time": "2022-01-22T07:34:56.351028",
     "exception": false,
     "start_time": "2022-01-22T07:34:56.330098",
     "status": "completed"
    },
    "tags": []
   },
   "outputs": [],
   "source": [
    "X = iris.data\n",
    "y = iris.target"
   ]
  },
  {
   "cell_type": "code",
   "execution_count": 4,
   "id": "bee33673",
   "metadata": {
    "execution": {
     "iopub.execute_input": "2022-01-22T07:34:56.380893Z",
     "iopub.status.busy": "2022-01-22T07:34:56.380067Z",
     "iopub.status.idle": "2022-01-22T07:34:56.383460Z",
     "shell.execute_reply": "2022-01-22T07:34:56.382921Z"
    },
    "id": "RDOP1F-e8iKY",
    "papermill": {
     "duration": 0.020493,
     "end_time": "2022-01-22T07:34:56.383657",
     "exception": false,
     "start_time": "2022-01-22T07:34:56.363164",
     "status": "completed"
    },
    "tags": []
   },
   "outputs": [],
   "source": [
    "#Data split in train/test sets"
   ]
  },
  {
   "cell_type": "code",
   "execution_count": 5,
   "id": "6471b9b6",
   "metadata": {
    "execution": {
     "iopub.execute_input": "2022-01-22T07:34:56.417532Z",
     "iopub.status.busy": "2022-01-22T07:34:56.416792Z",
     "iopub.status.idle": "2022-01-22T07:34:56.424862Z",
     "shell.execute_reply": "2022-01-22T07:34:56.424206Z"
    },
    "id": "yxK4L2sP8rTx",
    "papermill": {
     "duration": 0.028321,
     "end_time": "2022-01-22T07:34:56.425012",
     "exception": false,
     "start_time": "2022-01-22T07:34:56.396691",
     "status": "completed"
    },
    "tags": []
   },
   "outputs": [],
   "source": [
    "# Create training and test split\n",
    "#\n",
    "X_train, X_test, y_train, y_test = train_test_split(X, y, test_size=0.2, stratify=y, random_state=1)"
   ]
  },
  {
   "cell_type": "code",
   "execution_count": 6,
   "id": "8ae2ef49",
   "metadata": {
    "execution": {
     "iopub.execute_input": "2022-01-22T07:34:56.455468Z",
     "iopub.status.busy": "2022-01-22T07:34:56.454518Z",
     "iopub.status.idle": "2022-01-22T07:34:56.458286Z",
     "shell.execute_reply": "2022-01-22T07:34:56.457552Z"
    },
    "id": "u1IrpC3n8zMQ",
    "papermill": {
     "duration": 0.021265,
     "end_time": "2022-01-22T07:34:56.458443",
     "exception": false,
     "start_time": "2022-01-22T07:34:56.437178",
     "status": "completed"
    },
    "tags": []
   },
   "outputs": [],
   "source": [
    "# Create categorical labels\n",
    "#\n",
    "train_labels = to_categorical(y_train)\n",
    "test_labels = to_categorical(y_test)"
   ]
  },
  {
   "cell_type": "code",
   "execution_count": 7,
   "id": "25251a78",
   "metadata": {
    "execution": {
     "iopub.execute_input": "2022-01-22T07:34:56.488474Z",
     "iopub.status.busy": "2022-01-22T07:34:56.487671Z",
     "iopub.status.idle": "2022-01-22T07:34:56.491625Z",
     "shell.execute_reply": "2022-01-22T07:34:56.490906Z"
    },
    "id": "iuHx6_Qg80mG",
    "papermill": {
     "duration": 0.021127,
     "end_time": "2022-01-22T07:34:56.491799",
     "exception": false,
     "start_time": "2022-01-22T07:34:56.470672",
     "status": "completed"
    },
    "tags": []
   },
   "outputs": [],
   "source": [
    "clf = MLPClassifier(solver='adam', alpha=1e-5, hidden_layer_sizes=(3, 3), random_state=1)"
   ]
  },
  {
   "cell_type": "code",
   "execution_count": 8,
   "id": "2cacc922",
   "metadata": {
    "execution": {
     "iopub.execute_input": "2022-01-22T07:34:56.532414Z",
     "iopub.status.busy": "2022-01-22T07:34:56.524866Z",
     "iopub.status.idle": "2022-01-22T07:34:56.705522Z",
     "shell.execute_reply": "2022-01-22T07:34:56.704787Z"
    },
    "id": "mec2w1dd846Q",
    "outputId": "55e88804-64f0-453e-d886-9aa2b001be33",
    "papermill": {
     "duration": 0.2007,
     "end_time": "2022-01-22T07:34:56.705712",
     "exception": false,
     "start_time": "2022-01-22T07:34:56.505012",
     "status": "completed"
    },
    "tags": []
   },
   "outputs": [
    {
     "name": "stderr",
     "output_type": "stream",
     "text": [
      "/opt/conda/lib/python3.7/site-packages/sklearn/neural_network/_multilayer_perceptron.py:585: ConvergenceWarning: Stochastic Optimizer: Maximum iterations (200) reached and the optimization hasn't converged yet.\n",
      "  % self.max_iter, ConvergenceWarning)\n"
     ]
    },
    {
     "data": {
      "text/plain": [
       "MLPClassifier(alpha=1e-05, hidden_layer_sizes=(3, 3), random_state=1)"
      ]
     },
     "execution_count": 8,
     "metadata": {},
     "output_type": "execute_result"
    }
   ],
   "source": [
    "clf.fit(X_train, y_train)"
   ]
  },
  {
   "cell_type": "code",
   "execution_count": 9,
   "id": "21fb5f72",
   "metadata": {
    "execution": {
     "iopub.execute_input": "2022-01-22T07:34:56.740218Z",
     "iopub.status.busy": "2022-01-22T07:34:56.739192Z",
     "iopub.status.idle": "2022-01-22T07:34:56.742756Z",
     "shell.execute_reply": "2022-01-22T07:34:56.743383Z"
    },
    "id": "WUuC2HDt8-AZ",
    "outputId": "21ef4360-9c02-45b7-81a4-60f861a90f78",
    "papermill": {
     "duration": 0.02393,
     "end_time": "2022-01-22T07:34:56.743614",
     "exception": false,
     "start_time": "2022-01-22T07:34:56.719684",
     "status": "completed"
    },
    "tags": []
   },
   "outputs": [
    {
     "name": "stdout",
     "output_type": "stream",
     "text": [
      "[2 0 1 1 1 0 2 2 2 1 0 1 2 1 2 1 2 1 1 2 1 2 1 0 2 2 1 0 2 1]\n"
     ]
    }
   ],
   "source": [
    "prediction = clf.predict(X_test)\n",
    "print(prediction)"
   ]
  },
  {
   "cell_type": "code",
   "execution_count": 10,
   "id": "4dd12fbe",
   "metadata": {
    "execution": {
     "iopub.execute_input": "2022-01-22T07:34:56.777848Z",
     "iopub.status.busy": "2022-01-22T07:34:56.777083Z",
     "iopub.status.idle": "2022-01-22T07:34:56.780774Z",
     "shell.execute_reply": "2022-01-22T07:34:56.780112Z"
    },
    "id": "DKdM3M7s9Eg9",
    "outputId": "aa747073-187a-4c49-ddc4-efb296dc8113",
    "papermill": {
     "duration": 0.023242,
     "end_time": "2022-01-22T07:34:56.780930",
     "exception": false,
     "start_time": "2022-01-22T07:34:56.757688",
     "status": "completed"
    },
    "tags": []
   },
   "outputs": [
    {
     "name": "stdout",
     "output_type": "stream",
     "text": [
      "[2 0 1 0 0 0 2 2 2 1 0 1 2 1 2 0 2 1 1 2 1 1 0 0 2 2 0 0 1 1]\n"
     ]
    }
   ],
   "source": [
    "print(y_test)"
   ]
  },
  {
   "cell_type": "code",
   "execution_count": 11,
   "id": "baca289b",
   "metadata": {
    "execution": {
     "iopub.execute_input": "2022-01-22T07:34:56.816507Z",
     "iopub.status.busy": "2022-01-22T07:34:56.815639Z",
     "iopub.status.idle": "2022-01-22T07:34:56.819541Z",
     "shell.execute_reply": "2022-01-22T07:34:56.820099Z"
    },
    "id": "hB5iybCx9IsU",
    "outputId": "d00606b3-82ad-4212-f27e-ab0b717bc538",
    "papermill": {
     "duration": 0.025067,
     "end_time": "2022-01-22T07:34:56.820311",
     "exception": false,
     "start_time": "2022-01-22T07:34:56.795244",
     "status": "completed"
    },
    "tags": []
   },
   "outputs": [
    {
     "name": "stdout",
     "output_type": "stream",
     "text": [
      "The accuracy of the Multi-layer Perceptron is: 0.7666666666666667\n"
     ]
    }
   ],
   "source": [
    "print('The accuracy of the Multi-layer Perceptron is:',metrics.accuracy_score(prediction,y_test))"
   ]
  },
  {
   "cell_type": "code",
   "execution_count": 12,
   "id": "fd0f115f",
   "metadata": {
    "execution": {
     "iopub.execute_input": "2022-01-22T07:34:56.856469Z",
     "iopub.status.busy": "2022-01-22T07:34:56.855699Z",
     "iopub.status.idle": "2022-01-22T07:34:57.004189Z",
     "shell.execute_reply": "2022-01-22T07:34:57.003597Z"
    },
    "id": "DPxdZ14N9NwR",
    "papermill": {
     "duration": 0.169361,
     "end_time": "2022-01-22T07:34:57.004358",
     "exception": false,
     "start_time": "2022-01-22T07:34:56.834997",
     "status": "completed"
    },
    "tags": []
   },
   "outputs": [
    {
     "name": "stderr",
     "output_type": "stream",
     "text": [
      "\n",
      "User settings:\n",
      "\n",
      "   KMP_AFFINITY=granularity=fine,verbose,compact,1,0\n",
      "   KMP_BLOCKTIME=0\n",
      "   KMP_DUPLICATE_LIB_OK=True\n",
      "   KMP_INIT_AT_FORK=FALSE\n",
      "   KMP_SETTINGS=1\n",
      "   KMP_WARNINGS=0\n",
      "\n",
      "Effective settings:\n",
      "\n",
      "   KMP_ABORT_DELAY=0\n",
      "   KMP_ADAPTIVE_LOCK_PROPS='1,1024'\n",
      "   KMP_ALIGN_ALLOC=64\n",
      "   KMP_ALL_THREADPRIVATE=128\n",
      "   KMP_ATOMIC_MODE=2\n",
      "   KMP_BLOCKTIME=0\n",
      "   KMP_CPUINFO_FILE: value is not defined\n",
      "   KMP_DETERMINISTIC_REDUCTION=false\n",
      "   KMP_DEVICE_THREAD_LIMIT=2147483647\n",
      "   KMP_DISP_NUM_BUFFERS=7\n",
      "   KMP_DUPLICATE_LIB_OK=true\n",
      "   KMP_ENABLE_TASK_THROTTLING=true\n",
      "   KMP_FORCE_REDUCTION: value is not defined\n",
      "   KMP_FOREIGN_THREADS_THREADPRIVATE=true\n",
      "   KMP_FORKJOIN_BARRIER='2,2'\n",
      "   KMP_FORKJOIN_BARRIER_PATTERN='hyper,hyper'\n",
      "   KMP_GTID_MODE=3\n",
      "   KMP_HANDLE_SIGNALS=false\n",
      "   KMP_HOT_TEAMS_MAX_LEVEL=1\n",
      "   KMP_HOT_TEAMS_MODE=0\n",
      "   KMP_INIT_AT_FORK=true\n",
      "   KMP_LIBRARY=throughput\n",
      "   KMP_LOCK_KIND=queuing\n",
      "   KMP_MALLOC_POOL_INCR=1M\n",
      "   KMP_NUM_LOCKS_IN_BLOCK=1\n",
      "   KMP_PLAIN_BARRIER='2,2'\n",
      "   KMP_PLAIN_BARRIER_PATTERN='hyper,hyper'\n",
      "   KMP_REDUCTION_BARRIER='1,1'\n",
      "   KMP_REDUCTION_BARRIER_PATTERN='hyper,hyper'\n",
      "   KMP_SCHEDULE='static,balanced;guided,iterative'\n",
      "   KMP_SETTINGS=true\n",
      "   KMP_SPIN_BACKOFF_PARAMS='4096,100'\n",
      "   KMP_STACKOFFSET=64\n",
      "   KMP_STACKPAD=0\n",
      "   KMP_STACKSIZE=8M\n",
      "   KMP_STORAGE_MAP=false\n",
      "   KMP_TASKING=2\n",
      "   KMP_TASKLOOP_MIN_TASKS=0\n",
      "   KMP_TASK_STEALING_CONSTRAINT=1\n",
      "   KMP_TEAMS_THREAD_LIMIT=4\n",
      "   KMP_TOPOLOGY_METHOD=all\n",
      "   KMP_USE_YIELD=1\n",
      "   KMP_VERSION=false\n",
      "   KMP_WARNINGS=false\n",
      "   OMP_AFFINITY_FORMAT='OMP: pid %P tid %i thread %n bound to OS proc set {%A}'\n",
      "   OMP_ALLOCATOR=omp_default_mem_alloc\n",
      "   OMP_CANCELLATION=false\n",
      "   OMP_DEFAULT_DEVICE=0\n",
      "   OMP_DISPLAY_AFFINITY=false\n",
      "   OMP_DISPLAY_ENV=false\n",
      "   OMP_DYNAMIC=false\n",
      "   OMP_MAX_ACTIVE_LEVELS=1\n",
      "   OMP_MAX_TASK_PRIORITY=0\n",
      "   OMP_NESTED: deprecated; max-active-levels-var=1\n",
      "   OMP_NUM_THREADS: value is not defined\n",
      "   OMP_PLACES: value is not defined\n",
      "   OMP_PROC_BIND='intel'\n",
      "   OMP_SCHEDULE='static'\n",
      "   OMP_STACKSIZE=8M\n",
      "   OMP_TARGET_OFFLOAD=DEFAULT\n",
      "   OMP_THREAD_LIMIT=2147483647\n",
      "   OMP_WAIT_POLICY=PASSIVE\n",
      "   KMP_AFFINITY='verbose,warnings,respect,granularity=fine,compact,1,0'\n",
      "\n",
      "2022-01-22 07:34:56.891806: I tensorflow/core/common_runtime/process_util.cc:146] Creating new thread pool with default inter op setting: 2. Tune using inter_op_parallelism_threads for best performance.\n"
     ]
    }
   ],
   "source": [
    "# Create the network\n",
    "#\n",
    "network = models.Sequential()\n",
    "network.add(layers.Dense(32, activation='relu', input_shape=(4,)))\n",
    "network.add(layers.Dense(64, activation='relu'))\n",
    "network.add(layers.Dense(128, activation='relu'))\n",
    "network.add(layers.Dense(3, activation='softmax'))"
   ]
  },
  {
   "cell_type": "code",
   "execution_count": 13,
   "id": "888d744a",
   "metadata": {
    "execution": {
     "iopub.execute_input": "2022-01-22T07:34:57.047439Z",
     "iopub.status.busy": "2022-01-22T07:34:57.040455Z",
     "iopub.status.idle": "2022-01-22T07:34:57.056577Z",
     "shell.execute_reply": "2022-01-22T07:34:57.057124Z"
    },
    "id": "Um5_fqJF9S39",
    "papermill": {
     "duration": 0.036778,
     "end_time": "2022-01-22T07:34:57.057336",
     "exception": false,
     "start_time": "2022-01-22T07:34:57.020558",
     "status": "completed"
    },
    "tags": []
   },
   "outputs": [],
   "source": [
    "# Compile the network\n",
    "#\n",
    "network.compile(optimizer='sgd',\n",
    "                loss='categorical_crossentropy',\n",
    "                metrics=['accuracy'])"
   ]
  },
  {
   "cell_type": "code",
   "execution_count": 14,
   "id": "a89d6db1",
   "metadata": {
    "execution": {
     "iopub.execute_input": "2022-01-22T07:34:57.097627Z",
     "iopub.status.busy": "2022-01-22T07:34:57.096876Z",
     "iopub.status.idle": "2022-01-22T07:34:58.403753Z",
     "shell.execute_reply": "2022-01-22T07:34:58.403150Z"
    },
    "id": "hZZkws6_9WpH",
    "outputId": "b2e83066-4c93-48b8-8ecb-1a672fe95697",
    "papermill": {
     "duration": 1.32912,
     "end_time": "2022-01-22T07:34:58.403926",
     "exception": false,
     "start_time": "2022-01-22T07:34:57.074806",
     "status": "completed"
    },
    "tags": []
   },
   "outputs": [
    {
     "name": "stderr",
     "output_type": "stream",
     "text": [
      "2022-01-22 07:34:57.187540: I tensorflow/compiler/mlir/mlir_graph_optimization_pass.cc:185] None of the MLIR Optimization Passes are enabled (registered 2)\n"
     ]
    },
    {
     "name": "stdout",
     "output_type": "stream",
     "text": [
      "Epoch 1/20\n",
      "3/3 [==============================] - 1s 6ms/step - loss: 1.2241 - accuracy: 0.1667\n",
      "Epoch 2/20\n",
      "3/3 [==============================] - 0s 6ms/step - loss: 1.0301 - accuracy: 0.4083\n",
      "Epoch 3/20\n",
      "3/3 [==============================] - 0s 5ms/step - loss: 0.9698 - accuracy: 0.6500\n",
      "Epoch 4/20\n",
      "3/3 [==============================] - 0s 4ms/step - loss: 0.9093 - accuracy: 0.6667\n",
      "Epoch 5/20\n",
      "3/3 [==============================] - 0s 5ms/step - loss: 0.8704 - accuracy: 0.6667\n",
      "Epoch 6/20\n",
      "3/3 [==============================] - 0s 5ms/step - loss: 0.8402 - accuracy: 0.7417\n",
      "Epoch 7/20\n",
      "3/3 [==============================] - 0s 4ms/step - loss: 0.8145 - accuracy: 0.6667\n",
      "Epoch 8/20\n",
      "3/3 [==============================] - 0s 5ms/step - loss: 0.7863 - accuracy: 0.8167\n",
      "Epoch 9/20\n",
      "3/3 [==============================] - 0s 4ms/step - loss: 0.7584 - accuracy: 0.7417\n",
      "Epoch 10/20\n",
      "3/3 [==============================] - 0s 5ms/step - loss: 0.7346 - accuracy: 0.6667\n",
      "Epoch 11/20\n",
      "3/3 [==============================] - 0s 5ms/step - loss: 0.7187 - accuracy: 0.8250\n",
      "Epoch 12/20\n",
      "3/3 [==============================] - 0s 5ms/step - loss: 0.6862 - accuracy: 0.6833\n",
      "Epoch 13/20\n",
      "3/3 [==============================] - 0s 4ms/step - loss: 0.6666 - accuracy: 0.7917\n",
      "Epoch 14/20\n",
      "3/3 [==============================] - 0s 4ms/step - loss: 0.6485 - accuracy: 0.6750\n",
      "Epoch 15/20\n",
      "3/3 [==============================] - 0s 3ms/step - loss: 0.6311 - accuracy: 0.7000\n",
      "Epoch 16/20\n",
      "3/3 [==============================] - 0s 3ms/step - loss: 0.6119 - accuracy: 0.8917\n",
      "Epoch 17/20\n",
      "3/3 [==============================] - 0s 4ms/step - loss: 0.6005 - accuracy: 0.6833\n",
      "Epoch 18/20\n",
      "3/3 [==============================] - 0s 3ms/step - loss: 0.5830 - accuracy: 0.8750\n",
      "Epoch 19/20\n",
      "3/3 [==============================] - 0s 3ms/step - loss: 0.5814 - accuracy: 0.7750\n",
      "Epoch 20/20\n",
      "3/3 [==============================] - 0s 3ms/step - loss: 0.5631 - accuracy: 0.6833\n"
     ]
    },
    {
     "data": {
      "text/plain": [
       "<keras.callbacks.History at 0x7f0ec1c9f8d0>"
      ]
     },
     "execution_count": 14,
     "metadata": {},
     "output_type": "execute_result"
    }
   ],
   "source": [
    "# Fit the neural network\n",
    "#\n",
    "network.fit(X_train, train_labels, epochs=20, batch_size=40)"
   ]
  },
  {
   "cell_type": "code",
   "execution_count": 15,
   "id": "ba049862",
   "metadata": {
    "execution": {
     "iopub.execute_input": "2022-01-22T07:34:58.478688Z",
     "iopub.status.busy": "2022-01-22T07:34:58.477618Z",
     "iopub.status.idle": "2022-01-22T07:34:58.726594Z",
     "shell.execute_reply": "2022-01-22T07:34:58.727285Z"
    },
    "id": "74wUZv4w9aoi",
    "outputId": "fc89e7ae-8ed1-4545-fd2c-9bbcbba25d67",
    "papermill": {
     "duration": 0.293012,
     "end_time": "2022-01-22T07:34:58.727483",
     "exception": false,
     "start_time": "2022-01-22T07:34:58.434471",
     "status": "completed"
    },
    "tags": []
   },
   "outputs": [
    {
     "name": "stdout",
     "output_type": "stream",
     "text": [
      "1/1 [==============================] - 0s 214ms/step - loss: 0.5547 - accuracy: 0.9667\n",
      "Test Accuracy:  0.9666666388511658 \n",
      "Test Loss:  0.5546976923942566\n"
     ]
    }
   ],
   "source": [
    "# Get the accuracy of test data set\n",
    "#\n",
    "test_loss, test_acc = network.evaluate(X_test, test_labels)\n",
    "#\n",
    "# Print the test accuracy\n",
    "#\n",
    "print('Test Accuracy: ', test_acc, '\\nTest Loss: ', test_loss)"
   ]
  }
 ],
 "metadata": {
  "kernelspec": {
   "display_name": "Python 3",
   "language": "python",
   "name": "python3"
  },
  "language_info": {
   "codemirror_mode": {
    "name": "ipython",
    "version": 3
   },
   "file_extension": ".py",
   "mimetype": "text/x-python",
   "name": "python",
   "nbconvert_exporter": "python",
   "pygments_lexer": "ipython3",
   "version": "3.7.12"
  },
  "papermill": {
   "default_parameters": {},
   "duration": 26.959988,
   "end_time": "2022-01-22T07:35:02.271492",
   "environment_variables": {},
   "exception": null,
   "input_path": "__notebook__.ipynb",
   "output_path": "__notebook__.ipynb",
   "parameters": {},
   "start_time": "2022-01-22T07:34:35.311504",
   "version": "2.3.3"
  }
 },
 "nbformat": 4,
 "nbformat_minor": 5
}
